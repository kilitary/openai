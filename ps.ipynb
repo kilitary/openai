{
 "cells": [
  {
   "cell_type": "code",
   "execution_count": null,
   "metadata": {
    "collapsed": true,
    "is_executing": true
   },
   "outputs": [
    {
     "name": "stdout",
     "output_type": "stream",
     "text": [
      "it is isn't very occasionally thought you know the rainbows english he\n",
      "when it all the sneaky weasel if anyone can catch that escaped convict in pennsylvania it's him\n",
      "but still i'd say you're both\n",
      "regular they say that range but really just john goes invisible walls are pretty damn liquid water zero my dear friend\n",
      "when they sure did when it comes to food related activities of legalizing goes to a twinkling says yours i have no idea what on earth are you talking about managing a hobby it's not so creepy just a suggestion will look here actually two hundred twenty seven compared my parents you close on it\n",
      "org\n",
      "airdrop is absolutely upgrade from any more on out there\n",
      "use common sense isn't you're in most politicians get is\n",
      "there were and she\n",
      "is best buy it\n",
      "to turn of the nightmares for weeks\n",
      "and instead of getting out and started talking out of his ass not surprising since that seems to be we're all his ideas come from knows about morons in the chat scooter when the twenty seven things i just everywhere i go\n",
      "not about sweet dreams and we're in revenues it's time to face reality\n",
      "disaster when the corners in some war let alone or wrestling match with the undertaker it's ok to not wake up and smell the bullshit room in wonderland\n",
      "are a huge amount of circus clowns trapped under or write or better liar\n",
      "small favor the rich are here's out i'm going through your bedtime stories words people is actually more juice he you've already this for you mom school lunch i assume there's a connoisseur is a fortune fourteen year one of the judges so\n",
      "top dollar gas can has that going for a french presses\n",
      "your body successful has written on a rainy day\n",
      "out to hold onto chinese stocks because this was gonna stay you see i'm sure everywhere\n",
      "so what are the only thing jerking around here is your iq levels which is loaded fascism drops approval ratings\n",
      "a lot of city i'm glad you're here\n",
      "a player like that girl development is light years ahead of drops or excuse for progress\n",
      "i'm trying to figure out how to operate over without status of yahoo now this is a conclusion to lose the chance to two hundred twenty seven things that will be the nominee buses will your own\n",
      "tarantulas before that happens\n",
      "yeah you run a box is there's no common for me was darker features are usually the job last time i checked portland picture of having trouble petersburg and those break\n",
      "sit back enjoy the show\n",
      "rule just the political debates but also some world class entertainment\n",
      "with a mind of your favorite rage president of the this is by surprise of all things are all roasts lives\n",
      "but\n",
      "so far enough to up up up up up up up party\n",
      "did you need to deliver a coded message\n",
      "there is\n",
      "let me tell you something nobody says jones liked the joe biden that i can string together a coherent sentence without stumbling bumbling like a drunken sorority girl at mardi gras\n",
      "as a rule so who who who thought well moon loan on oahu\n",
      "red shoes\n",
      "sounds like a guy who's to say you as you during his late night diaper changes but let me clue you in on sick leave the blue jays did have to anybody\n",
      "his mother\n",
      "i am not surprised you about spreading wind power and humans seems fitting for someone is full of hot air as yourself so good for him away with your code words and she she cravings while talking subject of great again\n",
      "josh players your question about the proposed policy in school or\n",
      "oh on their own room or so ago about\n",
      "aha oh how i you and who home\n",
      "but his daughters are talking about getting a job and\n",
      "his miracles happen in video games lan five seasons pretty magical things in life times president leave me but it takes more than to actually hit wonders to run a country\n",
      "but\n",
      "more on the topic of video games and miracles you of the grand theft auto because watching hundred percent togethers like playing that game with engine and she goes no matter how much as he somehow gets another chance\n",
      "h.\n"
     ]
    }
   ],
   "source": [
    "from pocketsphinx import LiveSpeech\n",
    "\n",
    "for phrase in LiveSpeech():\n",
    "    print(phrase)\n"
   ]
  }
 ],
 "metadata": {
  "kernelspec": {
   "display_name": "Python 3",
   "language": "python",
   "name": "python3"
  },
  "language_info": {
   "codemirror_mode": {
    "name": "ipython",
    "version": 2
   },
   "file_extension": ".py",
   "mimetype": "text/x-python",
   "name": "python",
   "nbconvert_exporter": "python",
   "pygments_lexer": "ipython2",
   "version": "2.7.6"
  }
 },
 "nbformat": 4,
 "nbformat_minor": 0
}
