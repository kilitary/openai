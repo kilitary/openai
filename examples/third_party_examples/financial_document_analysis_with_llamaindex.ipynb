{
 "cells": [
  {
   "attachments": {},
   "cell_type": "markdown",
   "id": "0f67904b-5fd6-443f-bf10-d49a69b25fcd",
   "metadata": {
    "tags": []
   },
   "source": [
    "# Financial Document Analysis with LlamaIndex"
   ]
  },
  {
   "attachments": {},
   "cell_type": "markdown",
   "id": "9aebd935-07e0-44bb-a682-cf1d7b2a9b07",
   "metadata": {
    "tags": []
   },
   "source": [
    "In this example notebook, we showcase how to perform financial analysis over [**10-K**](https://en.wikipedia.org/wiki/Form_10-K) documents with the [**LlamaIndex**](https://gpt-index.readthedocs.io/en/latest/) framework with just a few lines of code."
   ]
  },
  {
   "attachments": {},
   "cell_type": "markdown",
   "id": "cb6f657b-b692-44ed-9b8f-2b277e07828d",
   "metadata": {
    "tags": []
   },
   "source": [
    "## Notebook Outline\n",
    "* [Introduction](#Introduction)\n",
    "* [Setup](#Setup)\n",
    "* [Data Loading & Indexing](#Data-Loading-and-Indexing)\n",
    "* [Simple QA](#Simple-QA)\n",
    "* [Advanced QA - Compare and Contrast](#Advanced-QA---Compare-and-Contrast)\n"
   ]
  },
  {
   "attachments": {},
   "cell_type": "markdown",
   "id": "1e38922b-10ad-4442-bff3-32ee2a384c4d",
   "metadata": {
    "tags": []
   },
   "source": [
    "## Introduction\n",
    "\n",
    "### LLamaIndex\n",
    "[LlamaIndex](https://gpt-index.readthedocs.io/en/latest/) is a data framework for LLM applications.\n",
    "You can get started with just a few lines of code and build a retrieval-augmented generation (RAG) system in minutes.\n",
    "For more advanced users, LlamaIndex offers a rich toolkit for ingesting and indexing your data, modules for retrieval and re-ranking, and composable components for building custom query engines.\n",
    "\n",
    "See [full documentation](https://gpt-index.readthedocs.io/en/latest/) for more details.\n",
    "\n",
    "### Financial Analysis over 10-K documents\n",
    "A key part of a financial analyst's job is to extract information and synthesize insight from long financial documents.\n",
    "A great example is the 10-K form - an annual report required by the U.S. Securities and Exchange Commission (SEC), that gives a comprehensive summary of a company's financial performance.\n",
    "These documents typically run hundred of pages in length, and contain domain-specific terminology that makes it challenging for a layperson to digest quickly.\n",
    "\n",
    "\n",
    "We showcase how LlamaIndex can support a financial analyst in quickly extracting information and synthesize insights **across multiple documents** with very little coding."
   ]
  },
  {
   "attachments": {},
   "cell_type": "markdown",
   "id": "ad72f9c1-e35c-476d-94d8-ca9619d0cc08",
   "metadata": {
    "tags": []
   },
   "source": [
    "## Setup"
   ]
  },
  {
   "attachments": {},
   "cell_type": "markdown",
   "id": "15284a54-35b3-4129-9a7a-57b7547bfaf4",
   "metadata": {
    "tags": []
   },
   "source": [
    "To begin, we need to install the llama-index library"
   ]
  },
  {
   "cell_type": "code",
   "execution_count": 1,
   "id": "d1062e24-6177-459a-94e0-8e77b3e0859b",
   "metadata": {
    "tags": [],
    "ExecuteTime": {
     "end_time": "2023-09-17T06:38:29.778600500Z",
     "start_time": "2023-09-17T06:38:17.818630400Z"
    }
   },
   "outputs": [
    {
     "name": "stdout",
     "output_type": "stream",
     "text": [
      "Looking in indexes: https://pypi.org/simple, https://pypi.ngc.nvidia.com\n",
      "Collecting llama-index\n",
      "  Obtaining dependency information for llama-index from https://files.pythonhosted.org/packages/0b/a1/9886f7c39570c26adff946696a1cc21fa244ae2e34a88d9dd64e07290419/llama_index-0.8.28-py3-none-any.whl.metadata\n",
      "  Downloading llama_index-0.8.28-py3-none-any.whl.metadata (5.0 kB)\n",
      "Collecting pypdf\n",
      "  Obtaining dependency information for pypdf from https://files.pythonhosted.org/packages/b2/5d/c2671fe6b1e799a4e2d2b4e2d58e13a63691f04bb9006e0d91fb47b9c3c0/pypdf-3.16.0-py3-none-any.whl.metadata\n",
      "  Downloading pypdf-3.16.0-py3-none-any.whl.metadata (7.2 kB)\n",
      "Requirement already satisfied: tiktoken in f:\\openai-cookbook\\venv\\lib\\site-packages (from llama-index) (0.3.3)\n",
      "Requirement already satisfied: dataclasses-json in f:\\openai-cookbook\\venv\\lib\\site-packages (from llama-index) (0.5.14)\n",
      "Requirement already satisfied: langchain>=0.0.262 in f:\\openai-cookbook\\venv\\lib\\site-packages (from llama-index) (0.0.264)\n",
      "Requirement already satisfied: sqlalchemy>=2.0.15 in f:\\openai-cookbook\\venv\\lib\\site-packages (from llama-index) (2.0.19)\n",
      "Requirement already satisfied: numpy in f:\\openai-cookbook\\venv\\lib\\site-packages (from llama-index) (1.25.2)\n",
      "Requirement already satisfied: tenacity<9.0.0,>=8.2.0 in f:\\openai-cookbook\\venv\\lib\\site-packages (from llama-index) (8.2.3)\n",
      "Requirement already satisfied: openai>=0.26.4 in f:\\openai-cookbook\\venv\\lib\\site-packages (from llama-index) (0.27.8)\n",
      "Requirement already satisfied: pandas in f:\\openai-cookbook\\venv\\lib\\site-packages (from llama-index) (2.0.3)\n",
      "Collecting urllib3<2 (from llama-index)\n",
      "  Obtaining dependency information for urllib3<2 from https://files.pythonhosted.org/packages/c5/05/c214b32d21c0b465506f95c4f28ccbcba15022e000b043b72b3df7728471/urllib3-1.26.16-py2.py3-none-any.whl.metadata\n",
      "  Downloading urllib3-1.26.16-py2.py3-none-any.whl.metadata (48 kB)\n",
      "     ---------------------------------------- 0.0/48.4 kB ? eta -:--:--\n",
      "     ---------------------------------------- 48.4/48.4 kB 2.5 MB/s eta 0:00:00\n",
      "Collecting fsspec>=2023.5.0 (from llama-index)\n",
      "  Obtaining dependency information for fsspec>=2023.5.0 from https://files.pythonhosted.org/packages/6a/af/c673e8c663e17bd4fb201a6f029153ad5d7023aa4442d81c7987743db379/fsspec-2023.9.1-py3-none-any.whl.metadata\n",
      "  Downloading fsspec-2023.9.1-py3-none-any.whl.metadata (6.7 kB)\n",
      "Requirement already satisfied: typing-inspect>=0.8.0 in f:\\openai-cookbook\\venv\\lib\\site-packages (from llama-index) (0.9.0)\n",
      "Requirement already satisfied: typing-extensions>=4.5.0 in f:\\openai-cookbook\\venv\\lib\\site-packages (from llama-index) (4.7.1)\n",
      "Requirement already satisfied: beautifulsoup4 in f:\\openai-cookbook\\venv\\lib\\site-packages (from llama-index) (4.12.2)\n",
      "Requirement already satisfied: nest-asyncio in f:\\openai-cookbook\\venv\\lib\\site-packages (from llama-index) (1.5.7)\n",
      "Requirement already satisfied: nltk in f:\\openai-cookbook\\venv\\lib\\site-packages (from llama-index) (3.6.2)\n",
      "Requirement already satisfied: PyYAML>=5.3 in f:\\openai-cookbook\\venv\\lib\\site-packages (from langchain>=0.0.262->llama-index) (6.0.1)\n",
      "Requirement already satisfied: aiohttp<4.0.0,>=3.8.3 in f:\\openai-cookbook\\venv\\lib\\site-packages (from langchain>=0.0.262->llama-index) (3.8.5)\n",
      "Requirement already satisfied: async-timeout<5.0.0,>=4.0.0 in f:\\openai-cookbook\\venv\\lib\\site-packages (from langchain>=0.0.262->llama-index) (4.0.3)\n",
      "Requirement already satisfied: langsmith<0.1.0,>=0.0.11 in f:\\openai-cookbook\\venv\\lib\\site-packages (from langchain>=0.0.262->llama-index) (0.0.22)\n",
      "Requirement already satisfied: numexpr<3.0.0,>=2.8.4 in f:\\openai-cookbook\\venv\\lib\\site-packages (from langchain>=0.0.262->llama-index) (2.8.5)\n",
      "Requirement already satisfied: openapi-schema-pydantic<2.0,>=1.2 in f:\\openai-cookbook\\venv\\lib\\site-packages (from langchain>=0.0.262->llama-index) (1.2.4)\n",
      "Requirement already satisfied: pydantic<2,>=1 in f:\\openai-cookbook\\venv\\lib\\site-packages (from langchain>=0.0.262->llama-index) (1.10.12)\n",
      "Requirement already satisfied: requests<3,>=2 in f:\\openai-cookbook\\venv\\lib\\site-packages (from langchain>=0.0.262->llama-index) (2.31.0)\n",
      "Requirement already satisfied: marshmallow<4.0.0,>=3.18.0 in f:\\openai-cookbook\\venv\\lib\\site-packages (from dataclasses-json->llama-index) (3.20.1)\n",
      "Requirement already satisfied: tqdm in f:\\openai-cookbook\\venv\\lib\\site-packages (from openai>=0.26.4->llama-index) (4.66.1)\n",
      "Requirement already satisfied: greenlet!=0.4.17 in f:\\openai-cookbook\\venv\\lib\\site-packages (from sqlalchemy>=2.0.15->llama-index) (2.0.2)\n",
      "Requirement already satisfied: mypy-extensions>=0.3.0 in f:\\openai-cookbook\\venv\\lib\\site-packages (from typing-inspect>=0.8.0->llama-index) (0.4.3)\n",
      "Requirement already satisfied: soupsieve>1.2 in f:\\openai-cookbook\\venv\\lib\\site-packages (from beautifulsoup4->llama-index) (2.4.1)\n",
      "Requirement already satisfied: click in f:\\openai-cookbook\\venv\\lib\\site-packages (from nltk->llama-index) (7.1.2)\n",
      "Requirement already satisfied: joblib in f:\\openai-cookbook\\venv\\lib\\site-packages (from nltk->llama-index) (1.3.2)\n",
      "Requirement already satisfied: regex in f:\\openai-cookbook\\venv\\lib\\site-packages (from nltk->llama-index) (2023.8.8)\n",
      "Requirement already satisfied: python-dateutil>=2.8.2 in f:\\openai-cookbook\\venv\\lib\\site-packages (from pandas->llama-index) (2.8.2)\n",
      "Requirement already satisfied: pytz>=2020.1 in f:\\openai-cookbook\\venv\\lib\\site-packages (from pandas->llama-index) (2023.3)\n",
      "Requirement already satisfied: tzdata>=2022.1 in f:\\openai-cookbook\\venv\\lib\\site-packages (from pandas->llama-index) (2023.3)\n",
      "Requirement already satisfied: attrs>=17.3.0 in f:\\openai-cookbook\\venv\\lib\\site-packages (from aiohttp<4.0.0,>=3.8.3->langchain>=0.0.262->llama-index) (23.1.0)\n",
      "Requirement already satisfied: charset-normalizer<4.0,>=2.0 in f:\\openai-cookbook\\venv\\lib\\site-packages (from aiohttp<4.0.0,>=3.8.3->langchain>=0.0.262->llama-index) (3.2.0)\n",
      "Requirement already satisfied: multidict<7.0,>=4.5 in f:\\openai-cookbook\\venv\\lib\\site-packages (from aiohttp<4.0.0,>=3.8.3->langchain>=0.0.262->llama-index) (6.0.4)\n",
      "Requirement already satisfied: yarl<2.0,>=1.0 in f:\\openai-cookbook\\venv\\lib\\site-packages (from aiohttp<4.0.0,>=3.8.3->langchain>=0.0.262->llama-index) (1.9.2)\n",
      "Requirement already satisfied: frozenlist>=1.1.1 in f:\\openai-cookbook\\venv\\lib\\site-packages (from aiohttp<4.0.0,>=3.8.3->langchain>=0.0.262->llama-index) (1.4.0)\n",
      "Requirement already satisfied: aiosignal>=1.1.2 in f:\\openai-cookbook\\venv\\lib\\site-packages (from aiohttp<4.0.0,>=3.8.3->langchain>=0.0.262->llama-index) (1.3.1)\n",
      "Requirement already satisfied: packaging>=17.0 in f:\\openai-cookbook\\venv\\lib\\site-packages (from marshmallow<4.0.0,>=3.18.0->dataclasses-json->llama-index) (23.1)\n",
      "Requirement already satisfied: six>=1.5 in f:\\openai-cookbook\\venv\\lib\\site-packages (from python-dateutil>=2.8.2->pandas->llama-index) (1.12.0)\n",
      "Requirement already satisfied: idna<4,>=2.5 in f:\\openai-cookbook\\venv\\lib\\site-packages (from requests<3,>=2->langchain>=0.0.262->llama-index) (3.4)\n",
      "Requirement already satisfied: certifi>=2017.4.17 in f:\\openai-cookbook\\venv\\lib\\site-packages (from requests<3,>=2->langchain>=0.0.262->llama-index) (2023.7.22)\n",
      "Requirement already satisfied: colorama in f:\\openai-cookbook\\venv\\lib\\site-packages (from tqdm->openai>=0.26.4->llama-index) (0.4.6)\n",
      "Downloading llama_index-0.8.28-py3-none-any.whl (806 kB)\n",
      "   ---------------------------------------- 0.0/806.3 kB ? eta -:--:--\n",
      "   ---------- ----------------------------- 204.8/806.3 kB 6.3 MB/s eta 0:00:01\n",
      "   ------------------- -------------------- 399.4/806.3 kB 5.0 MB/s eta 0:00:01\n",
      "   ------------------------------------ --- 737.3/806.3 kB 5.2 MB/s eta 0:00:01\n",
      "   ---------------------------------------- 806.3/806.3 kB 5.6 MB/s eta 0:00:00\n",
      "Downloading pypdf-3.16.0-py3-none-any.whl (276 kB)\n",
      "   ---------------------------------------- 0.0/276.0 kB ? eta -:--:--\n",
      "   ----------- ---------------------------- 81.9/276.0 kB ? eta -:--:--\n",
      "   ---------------------------------------- 276.0/276.0 kB 5.8 MB/s eta 0:00:00\n",
      "Downloading fsspec-2023.9.1-py3-none-any.whl (173 kB)\n",
      "   ---------------------------------------- 0.0/173.4 kB ? eta -:--:--\n",
      "   --------------------------------------- 173.4/173.4 kB 10.9 MB/s eta 0:00:00\n",
      "Downloading urllib3-1.26.16-py2.py3-none-any.whl (143 kB)\n",
      "   ---------------------------------------- 0.0/143.1 kB ? eta -:--:--\n",
      "   ---------------------------------------- 143.1/143.1 kB 8.3 MB/s eta 0:00:00\n",
      "Installing collected packages: urllib3, pypdf, fsspec, llama-index\n",
      "  Attempting uninstall: urllib3\n",
      "    Found existing installation: urllib3 2.0.4\n",
      "    Uninstalling urllib3-2.0.4:\n",
      "      Successfully uninstalled urllib3-2.0.4\n",
      "Successfully installed fsspec-2023.9.1 llama-index-0.8.28 pypdf-3.16.0 urllib3-1.26.16\n"
     ]
    },
    {
     "name": "stderr",
     "output_type": "stream",
     "text": [
      "DEPRECATION: textract 1.6.5 has a non-standard dependency specifier extract-msg<=0.29.*. pip 23.3 will enforce this behaviour change. A possible replacement is to upgrade to a newer version of textract or contact the author to suggest that they release a version with a conforming dependency specifiers. Discussion can be found at https://github.com/pypa/pip/issues/12063\n",
      "ERROR: pip's dependency resolver does not currently take into account all the packages that are installed. This behaviour is the source of the following dependency conflicts.\n",
      "spacy 3.0.5 requires pydantic<1.8.0,>=1.7.1, but you have pydantic 1.10.12 which is incompatible.\n"
     ]
    }
   ],
   "source": [
    "!pip install llama-index pypdf"
   ]
  },
  {
   "attachments": {},
   "cell_type": "markdown",
   "id": "f51cb5df-9c98-44d8-8c69-1a0b784de3e3",
   "metadata": {},
   "source": [
    "Now, we import all modules used in this tutorial."
   ]
  },
  {
   "cell_type": "code",
   "execution_count": 2,
   "id": "09fbec4c-1864-4d76-9dbf-3d213ba58fc8",
   "metadata": {
    "tags": [],
    "ExecuteTime": {
     "end_time": "2023-09-17T06:38:41.309058800Z",
     "start_time": "2023-09-17T06:38:34.019076500Z"
    }
   },
   "outputs": [],
   "source": [
    "from langchain import OpenAI\n",
    "\n",
    "from llama_index import SimpleDirectoryReader, ServiceContext, VectorStoreIndex\n",
    "from llama_index import set_global_service_context\n",
    "from llama_index.response.pprint_utils import pprint_response\n",
    "from llama_index.tools import QueryEngineTool, ToolMetadata\n",
    "from llama_index.query_engine import SubQuestionQueryEngine"
   ]
  },
  {
   "attachments": {},
   "cell_type": "markdown",
   "id": "c743f504-f28c-4802-89b6-ad152b74b0eb",
   "metadata": {
    "tags": []
   },
   "source": [
    "Before we start, we can configure the LLM provider and model that will power our RAG system.\n",
    "Here, we pick *text-davinci-003* from OpenAI, allow unlimited output tokens."
   ]
  },
  {
   "cell_type": "code",
   "execution_count": 3,
   "id": "c4ec8b0a-d5fa-4f74-a2cc-5cc52e009bc6",
   "metadata": {
    "tags": [],
    "ExecuteTime": {
     "end_time": "2023-09-17T06:38:44.302115700Z",
     "start_time": "2023-09-17T06:38:44.295115600Z"
    }
   },
   "outputs": [],
   "source": [
    "llm = OpenAI(temperature=0, model_name=\"text-davinci-003\", max_tokens=-1)"
   ]
  },
  {
   "attachments": {},
   "cell_type": "markdown",
   "id": "c2810e8c-1c88-49f5-aada-c49eccded166",
   "metadata": {},
   "source": [
    "We construct a `ServiceContext` and set it as the global default, so all subsequent operations that depends on LLM calls will use the model we configured here."
   ]
  },
  {
   "cell_type": "code",
   "execution_count": 4,
   "id": "05e016f9-2055-4885-8416-cc3aa2968242",
   "metadata": {
    "tags": [],
    "ExecuteTime": {
     "end_time": "2023-09-17T06:38:55.584091200Z",
     "start_time": "2023-09-17T06:38:51.022088Z"
    }
   },
   "outputs": [
    {
     "name": "stderr",
     "output_type": "stream",
     "text": [
      "[nltk_data] Downloading package punkt to\n",
      "[nltk_data]     C:\\Users\\deconf\\AppData\\Local\\llama_index...\n",
      "[nltk_data]   Unzipping tokenizers\\punkt.zip.\n"
     ]
    }
   ],
   "source": [
    "service_context = ServiceContext.from_defaults(llm=llm)\n",
    "set_global_service_context(service_context=service_context)"
   ]
  },
  {
   "attachments": {},
   "cell_type": "markdown",
   "id": "71fddd07-ff4c-44d4-82af-64e2e416e853",
   "metadata": {
    "tags": []
   },
   "source": [
    "## Data Loading and Indexing"
   ]
  },
  {
   "attachments": {},
   "cell_type": "markdown",
   "id": "e3c1a778-fd5a-4249-9704-580c52cacb10",
   "metadata": {
    "tags": []
   },
   "source": [
    "Now, we load and parse 2 PDFs (one for Uber 10-K in 2021 and another for Lyft 10-k in 2021).\n",
    "Under the hood, the PDFs are converted to plain text `Document` objects, separate by page.\n",
    "\n",
    "> Note: this operation might take a while to run, since each document is more than 100 pages."
   ]
  },
  {
   "cell_type": "code",
   "execution_count": 7,
   "id": "dd0ba028-1e70-4164-8af1-5f1df0ea76a9",
   "metadata": {
    "tags": [],
    "ExecuteTime": {
     "end_time": "2023-09-17T06:41:58.014718600Z",
     "start_time": "2023-09-17T06:41:31.047080Z"
    }
   },
   "outputs": [],
   "source": [
    "lyft_docs = SimpleDirectoryReader(input_files=[\"f:/openai-cookbook/examples/data/10k/lyft_2021.pdf\"]).load_data()\n",
    "uber_docs = SimpleDirectoryReader(input_files=[\"f:/openai-cookbook/examples/data/10k/uber_2021.pdf\"]).load_data()"
   ]
  },
  {
   "cell_type": "code",
   "execution_count": 31,
   "id": "d026ef11-ebc5-4ec3-9aab-8e065cd7f8a9",
   "metadata": {
    "tags": []
   },
   "outputs": [
    {
     "name": "stdout",
     "output_type": "stream",
     "text": [
      "Loaded lyft 10-K with 238 pages\n",
      "Loaded Uber 10-K with 307 pages\n"
     ]
    }
   ],
   "source": [
    "print(f'Loaded lyft 10-K with {len(lyft_docs)} pages')\n",
    "print(f'Loaded Uber 10-K with {len(uber_docs)} pages')"
   ]
  },
  {
   "attachments": {},
   "cell_type": "markdown",
   "id": "fd122d0d-2da6-4f46-aa2a-8a0049ad8694",
   "metadata": {},
   "source": [
    "Now, we can build an (in-memory) `VectorStoreIndex` over the documents that we've loaded.\n",
    "\n",
    "> Note: this operation might take a while to run, since it calls OpenAI API for computing vector embedding over document chunks."
   ]
  },
  {
   "cell_type": "code",
   "execution_count": 8,
   "id": "1e0b6e4c-2255-42cf-be88-0fe75a945d85",
   "metadata": {
    "tags": [],
    "ExecuteTime": {
     "end_time": "2023-09-17T06:45:44.687880500Z",
     "start_time": "2023-09-17T06:44:47.635922300Z"
    }
   },
   "outputs": [],
   "source": [
    "lyft_index = VectorStoreIndex.from_documents(lyft_docs)\n",
    "uber_index = VectorStoreIndex.from_documents(uber_docs)"
   ]
  },
  {
   "attachments": {},
   "cell_type": "markdown",
   "id": "8f5fdd5b-4c02-43b3-9ac6-cb42003350ca",
   "metadata": {
    "tags": []
   },
   "source": [
    "## Simple QA"
   ]
  },
  {
   "attachments": {},
   "cell_type": "markdown",
   "id": "a86b9ba7-e9b9-498d-88f5-c6991c7cafa7",
   "metadata": {
    "tags": []
   },
   "source": [
    "Now we are ready to run some queries against our indices!\n",
    "To do so, we first configure a `QueryEngine`, which just captures a set of configurations for how we want to query the underlying index.\n",
    "\n",
    "For a `VectorStoreIndex`, the most common configuration to adjust is `similarity_top_k` which controls how many document chunks (which we call `Node` objects) are retrieved to use as context for answering our question."
   ]
  },
  {
   "cell_type": "code",
   "execution_count": 9,
   "id": "82466534-c3d8-4619-ab1b-4abcd05c8ba7",
   "metadata": {
    "tags": [],
    "ExecuteTime": {
     "end_time": "2023-09-17T06:46:04.789168800Z",
     "start_time": "2023-09-17T06:46:04.772491800Z"
    }
   },
   "outputs": [],
   "source": [
    "lyft_engine = lyft_index.as_query_engine(similarity_top_k=3)"
   ]
  },
  {
   "cell_type": "code",
   "execution_count": 10,
   "id": "ff449977-2c7c-433f-b303-ff1d7b66c7b3",
   "metadata": {
    "tags": [],
    "ExecuteTime": {
     "end_time": "2023-09-17T06:46:06.488617200Z",
     "start_time": "2023-09-17T06:46:06.455764500Z"
    }
   },
   "outputs": [],
   "source": [
    "uber_engine = uber_index.as_query_engine(similarity_top_k=3)"
   ]
  },
  {
   "attachments": {},
   "cell_type": "markdown",
   "id": "633d6126-8b94-4653-980f-0946d92df36a",
   "metadata": {
    "tags": []
   },
   "source": [
    "Let's see some queries in action!"
   ]
  },
  {
   "cell_type": "code",
   "execution_count": 15,
   "id": "18df061f-238d-4a27-8fd6-1037b0098ae8",
   "metadata": {
    "tags": [],
    "ExecuteTime": {
     "end_time": "2023-09-17T06:46:48.257239100Z",
     "start_time": "2023-09-17T06:46:46.873145200Z"
    }
   },
   "outputs": [],
   "source": [
    "response = await lyft_engine.aquery('What is the revenue of Lyft in 2021? Answer in cents with page reference')"
   ]
  },
  {
   "cell_type": "code",
   "execution_count": 16,
   "id": "0e2ab622-e76f-43b6-aea3-122c8a6946de",
   "metadata": {
    "tags": [],
    "ExecuteTime": {
     "end_time": "2023-09-17T06:46:49.023984500Z",
     "start_time": "2023-09-17T06:46:49.006742700Z"
    }
   },
   "outputs": [
    {
     "name": "stdout",
     "output_type": "stream",
     "text": [
      " 3,208,323,000 cents (page 79)\n"
     ]
    }
   ],
   "source": [
    "print(response)"
   ]
  },
  {
   "cell_type": "code",
   "execution_count": 17,
   "id": "2e101199-454b-4aca-913b-20c9631909b8",
   "metadata": {
    "tags": [],
    "ExecuteTime": {
     "end_time": "2023-09-17T06:47:05.540905700Z",
     "start_time": "2023-09-17T06:47:03.908191600Z"
    }
   },
   "outputs": [],
   "source": [
    "response = await uber_engine.aquery('What is the revenue of Uber in 2021? Answer in millions, with page reference')"
   ]
  },
  {
   "cell_type": "code",
   "execution_count": 18,
   "id": "82b9cced-f7cf-49e4-965a-ee7c45baae7f",
   "metadata": {
    "tags": [],
    "ExecuteTime": {
     "end_time": "2023-09-17T06:47:07.724072900Z",
     "start_time": "2023-09-17T06:47:07.707816Z"
    }
   },
   "outputs": [
    {
     "name": "stdout",
     "output_type": "stream",
     "text": [
      " Revenue in 2021 was $17,455 million (page 98).\n"
     ]
    }
   ],
   "source": [
    "print(response)"
   ]
  },
  {
   "attachments": {},
   "cell_type": "markdown",
   "id": "ee379703-68d1-4a88-a21b-a6e74e78cc91",
   "metadata": {
    "tags": []
   },
   "source": [
    "## Advanced QA - Compare and Contrast"
   ]
  },
  {
   "attachments": {},
   "cell_type": "markdown",
   "id": "668dffa8-1eb3-4209-913a-ed7debe7bee8",
   "metadata": {
    "tags": []
   },
   "source": [
    "For more complex financial analysis, one often needs to reference multiple documents.\n",
    "\n",
    "As a example, let's take a look at how to do compare-and-contrast queries over both Lyft and Uber financials.\n",
    "For this, we build a `SubQuestionQueryEngine`, which breaks down a complex compare-and-contrast query, into simpler sub-questions to execute on respective sub query engine backed by individual indices."
   ]
  },
  {
   "cell_type": "code",
   "execution_count": 19,
   "id": "8775650f-b164-478c-8129-9a8e6a0cdc97",
   "metadata": {
    "tags": [],
    "ExecuteTime": {
     "end_time": "2023-09-17T06:47:40.973863400Z",
     "start_time": "2023-09-17T06:47:40.941722900Z"
    }
   },
   "outputs": [],
   "source": [
    "query_engine_tools = [\n",
    "    QueryEngineTool(\n",
    "        query_engine=lyft_engine,\n",
    "        metadata=ToolMetadata(name='lyft_10k', description='Provides information about Lyft financials for year 2021')\n",
    "    ),\n",
    "    QueryEngineTool(\n",
    "        query_engine=uber_engine,\n",
    "        metadata=ToolMetadata(name='uber_10k', description='Provides information about Uber financials for year 2021')\n",
    "    ),\n",
    "]\n",
    "\n",
    "s_engine = SubQuestionQueryEngine.from_defaults(query_engine_tools=query_engine_tools)"
   ]
  },
  {
   "attachments": {},
   "cell_type": "markdown",
   "id": "6981caf5-38bb-4d5e-9068-b4874c62bfc9",
   "metadata": {
    "tags": []
   },
   "source": [
    "Let's see these queries in action!"
   ]
  },
  {
   "cell_type": "code",
   "execution_count": 20,
   "id": "edd4bbb7-eef9-4b53-b05d-f91033635ac2",
   "metadata": {
    "tags": [],
    "ExecuteTime": {
     "end_time": "2023-09-17T06:48:19.426187100Z",
     "start_time": "2023-09-17T06:47:56.625573700Z"
    }
   },
   "outputs": [
    {
     "name": "stdout",
     "output_type": "stream",
     "text": [
      "Generated 4 sub questions.\n",
      "\u001B[36;1m\u001B[1;3m[lyft_10k] Q: What were the customer segments that grew the fastest for Lyft in 2021?\n",
      "\u001B[0m\u001B[33;1m\u001B[1;3m[uber_10k] Q: What were the customer segments that grew the fastest for Uber in 2021?\n",
      "\u001B[0m\u001B[38;5;200m\u001B[1;3m[lyft_10k] Q: Which geographies experienced the fastest growth for Lyft in 2021?\n",
      "\u001B[0m\u001B[32;1m\u001B[1;3m[uber_10k] Q: Which geographies experienced the fastest growth for Uber in 2021?\n",
      "\u001B[0m\u001B[36;1m\u001B[1;3m[lyft_10k] A:  In 2021, Lyft saw the fastest growth in riders who used the platform to commute to and from work, explore their cities, spend more time at local businesses, and stay out longer knowing they could get a reliable ride home. Lyft also saw growth in drivers who had access to 24/7 support and earnings tools, education resources, and other support to meet their personal goals.\n",
      "\u001B[0m\u001B[33;1m\u001B[1;3m[uber_10k] A:  In 2021, Uber's Mobility, Delivery, and Freight segments grew the fastest. Mobility refers to products that connect consumers with Mobility Drivers who provide rides in a variety of vehicles, such as cars, auto rickshaws, motorbikes, minibuses, or taxis. Delivery allows consumers to search for and discover local restaurants, order a meal, and either pick-up at the restaurant or have the meal delivered and, in certain markets, Delivery also includes offerings for grocery, alcohol and convenience store delivery as well as select other goods. Freight refers to products that connect shippers with carriers in the freight industry.\n",
      "\u001B[0m\u001B[38;5;200m\u001B[1;3m[lyft_10k] A:  In 2021, Lyft experienced continued recovery as vaccines were more widely distributed and more communities fully reopened, resulting in revenue increasing 36% in 2021 compared to the prior year, and the number of Active Riders increasing 49.2% in the fourth quarter of 2021 compared to the fourth quarter of 2020. Net loss decreased $743.5 million, or 42%, from $1.8 billion in 2020 to $1.0 billion in 2021. Adjusted EBITDA in 2021 was $92.9 million, marking our first annual Adjusted EBITDA profitability. It is likely that the geographies that experienced the fastest growth for Lyft in 2021 were those that were able to fully reopen and distribute vaccines more quickly.\n",
      "\u001B[0m\u001B[32;1m\u001B[1;3m[uber_10k] A:  In 2021, Uber experienced the fastest growth in five metropolitan areas—Chicago, Miami, and New York City in the United States, Sao Paulo in Brazil, and London in the United Kingdom. Additionally, Uber experienced growth in trips to and from airports, as well as in suburban and rural areas.\n",
      "\u001B[0m"
     ]
    }
   ],
   "source": [
    "response = await s_engine.aquery('Compare and contrast the customer segments and geographies that grew the fastest')"
   ]
  },
  {
   "cell_type": "code",
   "execution_count": 21,
   "id": "b631d68b-dd17-4afd-9ed7-da0131041c8b",
   "metadata": {
    "tags": [],
    "ExecuteTime": {
     "end_time": "2023-09-17T06:50:53.547534100Z",
     "start_time": "2023-09-17T06:50:53.514513300Z"
    }
   },
   "outputs": [
    {
     "name": "stdout",
     "output_type": "stream",
     "text": [
      "\n",
      "Lyft saw the fastest growth in riders who used the platform to commute to and from work, explore their cities, spend more time at local businesses, and stay out longer knowing they could get a reliable ride home. Additionally, Lyft saw growth in drivers who had access to 24/7 support and earnings tools, education resources, and other support to meet their personal goals. The geographies that experienced the fastest growth for Lyft in 2021 were those that were able to fully reopen and distribute vaccines more quickly.\n",
      "\n",
      "Uber's Mobility, Delivery, and Freight segments grew the fastest in 2021. Mobility refers to products that connect consumers with Mobility Drivers who provide rides in a variety of vehicles, such as cars, auto rickshaws, motorbikes, minibuses, or taxis. Delivery allows consumers to search for and discover local restaurants, order a meal, and either pick-up at the restaurant or have the meal delivered and, in certain markets, Delivery also includes offerings for grocery, alcohol and convenience store delivery as well as select other goods. Freight refers to products that connect shippers with carriers in the freight industry. Uber experienced the fastest growth in five metropolitan areas—Chicago, Miami, and New York City in the United States, Sao Paulo in Brazil, and London in the United Kingdom. Additionally, Uber experienced growth in trips to and from airports, as well as in suburban and rural areas.\n"
     ]
    }
   ],
   "source": [
    "print(response)"
   ]
  },
  {
   "cell_type": "code",
   "execution_count": 22,
   "id": "6bbbdd5b-0076-48c8-b233-e2ba43d7a6de",
   "metadata": {
    "tags": [],
    "ExecuteTime": {
     "end_time": "2023-09-17T06:51:13.631474200Z",
     "start_time": "2023-09-17T06:51:02.731547Z"
    }
   },
   "outputs": [
    {
     "name": "stdout",
     "output_type": "stream",
     "text": [
      "Generated 4 sub questions.\n",
      "\u001B[36;1m\u001B[1;3m[uber_10k] Q: What is the revenue of Uber in 2020?\n",
      "\u001B[0m\u001B[33;1m\u001B[1;3m[uber_10k] Q: What is the revenue of Uber in 2021?\n",
      "\u001B[0m\u001B[38;5;200m\u001B[1;3m[lyft_10k] Q: What is the revenue of Lyft in 2020?\n",
      "\u001B[0m\u001B[32;1m\u001B[1;3m[lyft_10k] Q: What is the revenue of Lyft in 2021?\n",
      "\u001B[0m\u001B[33;1m\u001B[1;3m[uber_10k] A:  The revenue of Uber in 2021 was $17,455 million.\n",
      "\u001B[0m\u001B[32;1m\u001B[1;3m[lyft_10k] A:  The revenue of Lyft in 2021 was $3,208,323 thousand.\n",
      "\u001B[0m\u001B[36;1m\u001B[1;3m[uber_10k] A:  The revenue of Uber in 2020 was $11,139 million.\n",
      "\u001B[0m\u001B[38;5;200m\u001B[1;3m[lyft_10k] A:  The revenue of Lyft in 2020 was $2,364,681 thousand.\n",
      "\u001B[0m"
     ]
    }
   ],
   "source": [
    "response = await s_engine.aquery('Compare revenue growth of Uber and Lyft from 2020 to 2021')"
   ]
  },
  {
   "cell_type": "code",
   "execution_count": 23,
   "id": "fadf421e-5938-4031-81df-cfbfd347b674",
   "metadata": {
    "tags": [],
    "ExecuteTime": {
     "end_time": "2023-09-17T06:51:27.182418100Z",
     "start_time": "2023-09-17T06:51:27.165468500Z"
    }
   },
   "outputs": [
    {
     "name": "stdout",
     "output_type": "stream",
     "text": [
      " Uber's revenue grew by 56.2% from 2020 to 2021, from $11,139 million to $17,455 million. Lyft's revenue grew by 35.6% from 2020 to 2021, from $2,364,681 thousand to $3,208,323 thousand.\n"
     ]
    }
   ],
   "source": [
    "print(response)\n"
   ]
  }
 ],
 "metadata": {
  "kernelspec": {
   "display_name": "Python 3 (ipykernel)",
   "language": "python",
   "name": "python3"
  },
  "language_info": {
   "codemirror_mode": {
    "name": "ipython",
    "version": 3
   },
   "file_extension": ".py",
   "mimetype": "text/x-python",
   "name": "python",
   "nbconvert_exporter": "python",
   "pygments_lexer": "ipython3",
   "version": "3.9.16"
  }
 },
 "nbformat": 4,
 "nbformat_minor": 5
}
