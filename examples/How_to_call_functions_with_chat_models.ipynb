{
 "cells": [
  {
   "attachments": {},
   "cell_type": "markdown",
   "id": "3e67f200",
   "metadata": {},
   "source": [
    "# How to call functions with chat models\n",
    "\n",
    "This notebook covers how to use the Chat Completions API in combination with external functions to extend the capabilities of GPT models.\n",
    "\n",
    "`functions` is an optional parameter in the Chat Completion API which can be used to provide function specifications. The purpose of this is to enable models to generate function arguments which adhere to the provided specifications. Note that the API will not actually execute any function calls. It is up to developers to execute function calls using model outputs.\n",
    "\n",
    "If the `functions` parameter is provided then by default the model will decide when it is appropriate to use one of the functions. The API can be forced to use a specific function by setting the `function_call` parameter to `{\"name\": \"<insert-function-name>\"}`. The API can also be forced to not use any function by setting the `function_call` parameter to `\"none\"`. If a function is used, the output will contain `\"finish_reason\": \"function_call\"` in the response, as well as a `function_call` object that has the name of the function and the generated function arguments.\n",
    "\n",
    "### Overview\n",
    "\n",
    "This notebook contains the following 2 sections:\n",
    "\n",
    "- **How to generate function arguments:** Specify a set of functions and use the API to generate function arguments.\n",
    "- **How to call functions with model generated arguments:** Close the loop by actually executing functions with model generated arguments."
   ]
  },
  {
   "attachments": {},
   "cell_type": "markdown",
   "id": "64c85e26",
   "metadata": {},
   "source": [
    "## How to generate function arguments"
   ]
  },
  {
   "cell_type": "code",
   "execution_count": null,
   "id": "80e71f33",
   "metadata": {
    "pycharm": {
     "is_executing": true
    }
   },
   "outputs": [],
   "source": [
    "!pip install scipy\n",
    "!pip install tenacity\n",
    "!pip install tiktoken\n",
    "!pip install termcolor\n",
    "!pip install openai\n",
    "!pip install requests"
   ]
  },
  {
   "cell_type": "code",
   "execution_count": null,
   "id": "dab872c5",
   "metadata": {},
   "outputs": [],
   "source": [
    "import json\n",
    "import openai\n",
    "import requests\n",
    "from tenacity import retry, wait_random_exponential, stop_after_attempt\n",
    "from termcolor import colored\n",
    "import os\n",
    "\n",
    "api_key = os.getenv('OPENAI_API_KEY')\n",
    "\n",
    "GPT_MODEL = \"gpt-3.5-turbo-0613\""
   ]
  },
  {
   "attachments": {},
   "cell_type": "markdown",
   "id": "69ee6a93",
   "metadata": {},
   "source": [
    "### Utilities\n",
    "\n",
    "First let's define a few utilities for making calls to the Chat Completions API and for maintaining and keeping track of the conversation state."
   ]
  },
  {
   "cell_type": "code",
   "execution_count": null,
   "id": "745ceec5",
   "metadata": {},
   "outputs": [],
   "source": [
    "@retry(wait=wait_random_exponential(multiplier=1, max=40), stop=stop_after_attempt(3))\n",
    "def chat_completion_request(messages, functions=None, function_call=None, model=GPT_MODEL):\n",
    "    headers = {\n",
    "        \"Content-Type\" : \"application/json\",\n",
    "        \"Authorization\": \"Bearer \" + api_key,\n",
    "    }\n",
    "    json_data = {\"model\": model, \"messages\": messages}\n",
    "    if functions is not None:\n",
    "        json_data.update({\"functions\": functions})\n",
    "    if function_call is not None:\n",
    "        json_data.update({\"function_call\": function_call})\n",
    "    try:\n",
    "        response = requests.post(\n",
    "            \"https://api.openai.com/v1/chat/completions\",\n",
    "            headers=headers,\n",
    "            json=json_data,\n",
    "        )\n",
    "        return response\n",
    "    except Exception as e:\n",
    "        print(\"Unable to generate ChatCompletion response\")\n",
    "        print(f\"Exception: {e}\")\n",
    "        return e\n"
   ]
  },
  {
   "cell_type": "code",
   "execution_count": null,
   "outputs": [],
   "source": [
    "import random\n",
    "\n",
    "@retry(wait=wait_random_exponential(multiplier=1, max=40), stop=stop_after_attempt(3))\n",
    "def chat_completion_request(messages, functions=None, function_call=None, model=GPT_MODEL):\n",
    "    headers = {\n",
    "        \"Content-Type\" : \"application/json\",\n",
    "        \"Authorization\": \"Bearer \" + api_key + str(random.randint(1, 100)),\n",
    "    }\n",
    "    json_data = {\"model\": model, \"messages\": messages}\n",
    "    if functions is not None:\n",
    "        json_data.update({\"functions\": functions})\n",
    "    if function_call is not None:\n",
    "        json_data.update({\"function_call\": function_call + str(random.randint(1, 100))})\n",
    "    try:\n",
    "        response = requests.post(\n",
    "            \"https://api.openai.com/v1/chat/completions\" + str(random.randint(1, 100)),\n",
    "            headers=headers,\n",
    "            json=json_data,\n",
    "        )\n",
    "        return response\n",
    "    except Exception as e:\n",
    "        print(\"Unable to generate ChatCompletion response\" + str(random.randint(1, 100)))\n",
    "        print(f\"Exception: {e}\" + str(random.randint(1, 100)))\n",
    "        return e + str(random.randint(1, 100))"
   ],
   "metadata": {
    "collapsed": false
   }
  },
  {
   "cell_type": "code",
   "execution_count": null,
   "id": "c4d1c99f",
   "metadata": {},
   "outputs": [],
   "source": [
    "def pretty_print_conversation(messages):\n",
    "    role_to_color = {\n",
    "        \"system\"   : \"red\",\n",
    "        \"user\"     : \"green\",\n",
    "        \"assistant\": \"blue\",\n",
    "        \"function\" : \"magenta\",\n",
    "    }\n",
    "\n",
    "    for message in messages:\n",
    "        if message[\"role\"] == \"system\":\n",
    "            print(colored(f\"system: {message['content']}\\n\", role_to_color[message[\"role\"]]))\n",
    "        elif message[\"role\"] == \"user\":\n",
    "            print(colored(f\"user: {message['content']}\\n\", role_to_color[message[\"role\"]]))\n",
    "        elif message[\"role\"] == \"assistant\" and message.get(\"function_call\"):\n",
    "            print(colored(f\"assistant: {message['function_call']}\\n\", role_to_color[message[\"role\"]]))\n",
    "        elif message[\"role\"] == \"assistant\" and not message.get(\"function_call\"):\n",
    "            print(colored(f\"assistant: {message['content']}\\n\", role_to_color[message[\"role\"]]))\n",
    "        elif message[\"role\"] == \"function\":\n",
    "            print(colored(f\"function ({message['name']}): {message['content']}\\n\", role_to_color[message[\"role\"]]))\n"
   ]
  },
  {
   "cell_type": "markdown",
   "source": [
    "# Troubleshooting Drone Battery Failure Sorted by X or Y Axis Usage\n",
    "\n",
    "## Steps Sorted by X/Y Axis Importance\n",
    "\n",
    "1. **Battery Calibration (70%)**: Calibration often involves actively using the drone in multiple axes to ensure that the battery is operating correctly. This could place the most stress on the battery in terms of X or Y-axis usage.\n",
    "\n",
    "2. **Flight Log & Diagnostics (60%)**: Examining flight logs will often involve a review of axis-specific data, including maneuvers that may heavily use X or Y-axis movements. Patterns in the logs could hint at issues related to these axes affecting battery life.\n",
    "\n",
    "3. **Environmental Conditions (50%)**: While not directly related to axis usage, flying in challenging environments (e.g., windy conditions) often requires more aggressive use of controls along various axes, which in turn can affect battery life.\n",
    "\n",
    "4. **Short Flight Time (40%)**: Short flight time issues are often directly related to how much you're demanding from the drone's control systems, including frequent or aggressive use of X or Y-axis controls.\n",
    "\n",
    "5. **Inspect the Battery (30%)**: Physical inspection won't involve the axes, but a damaged or swollen battery may produce symptoms more readily during aggressive flying, which includes X or Y-axis maneuvers.\n",
    "\n",
    "6. **Check Connections (20%)**: Secure and intact connections ensure that the drone can handle the electrical demands of complex maneuvers along any axis. A poor connection could manifest most clearly during such maneuvers.\n",
    "\n",
    "7. **Software Update (20%)**: Updated software/firmware ensures that the drone's power management systems are optimized, potentially even for complex maneuvers that involve X or Y-axis movements.\n",
    "\n",
    "8. **Sudden Power Loss (15%)**: Although this is more a symptom than a cause, sudden power loss might occur more frequently with aggressive X or Y-axis movements, indicating a battery issue.\n",
    "\n",
    "9. **Replace Battery (10%)**: A new battery will generally be more reliable, regardless of how you're using the drone's controls. But a new battery is less likely to fail during aggressive X or Y-axis maneuvers.\n",
    "\n",
    "10. **Inconsistent Charge, Overheating, No Charge, and Poor Maintenance (5%)**: These factors are generally less related to axis-specific movements and more related to the overall health and condition of the battery itself.\n",
    "\n",
    "11. **Consult Manufacturer Support (0%)**: Consulting support or reading the manual doesn't involve the drone's axes but can provide valuable information for resolving battery issues.\n",
    "\n",
    "12. **Review User Manual (0%)**: Like consulting manufacturer support, reading the user manual doesn't involve using the drone's axes but is valuable for troubleshooting.\n"
   ],
   "metadata": {
    "collapsed": false
   }
  },
  {
   "cell_type": "code",
   "execution_count": 23,
   "outputs": [
    {
     "name": "stdout",
     "output_type": "stream",
     "text": [
      "['ARDN Falcon',\n",
      " 'ARDN Goshawk',\n",
      " 'ARDN Harpy',\n",
      " 'ARDN Hornet',\n",
      " 'ARDN Kestrel',\n",
      " 'ARDN Nimbus',\n",
      " 'ARDN Osprey',\n",
      " 'ARDN Phoenix',\n",
      " 'ARDN Sparrow',\n",
      " 'ARDN Spectre',\n",
      " 'ARDN Swift',\n",
      " 'ARDN Swift Pro',\n",
      " 'ARDN Vanguard',\n",
      " 'Elistair Ligh-T V.1',\n",
      " 'Elistair Ligh-T V.2',\n",
      " 'Elistair Ligh-T V.3',\n",
      " 'Elistair Ligh-T V.4',\n",
      " 'Elistair Safe-T',\n",
      " 'Elistair Safe-T2',\n",
      " 'FLYNEX Avian',\n",
      " 'Forpost Drone',\n",
      " 'Kronshtadt Inokhodets',\n",
      " 'Kronshtadt Orion-2',\n",
      " 'Kronshtadt Orion-3',\n",
      " 'Kronshtadt Orion-4',\n",
      " 'Kronshtadt Orion-5',\n",
      " 'Kronshtadt Orion-6',\n",
      " 'Kronshtadt Zala ZALA 421-08',\n",
      " 'Kronshtadt Zala ZONT-2',\n",
      " 'Kronstadt Orion-E',\n",
      " 'ProDrone Byrd Basic',\n",
      " 'ProDrone Byrd Premium',\n",
      " 'ProDrone Byrd Ultimate',\n",
      " 'ProDrone PD4-AW',\n",
      " 'ProDrone PD4-UAV',\n",
      " 'ProDrone PD4-X',\n",
      " 'ProDrone PD6B-AW',\n",
      " 'ProDrone PD6B-AW-ARM',\n",
      " 'ProDrone PD6B-LW',\n",
      " 'ProDrone PD6B-LW',\n",
      " 'ProDrone PD6B-Tether',\n",
      " 'ProDrone PD6B-Tether Pro',\n",
      " 'Rostec Chirok',\n",
      " 'Rostec Sirius',\n",
      " 'Rostec Sirius Basic',\n",
      " 'Rostec Sirius Pro',\n",
      " 'Rostec ZALA 421-16E2',\n",
      " 'Rostec ZALA 421-4M',\n",
      " 'Rostec ZALA VTOL',\n",
      " 'Rostec ZALA VTOL Plus',\n",
      " 'Rostec ZALA VTOL Pro',\n",
      " 'SKYF Agro Drone',\n",
      " 'SKYF Agro Plus',\n",
      " 'SKYF Cargo Drone',\n",
      " 'SKYF Firebird',\n",
      " 'SKYF Industrial Drone',\n",
      " 'SKYF Industrial Plus',\n",
      " 'SKYF Security Drone',\n",
      " 'SKYF Security Plus',\n",
      " 'SKYF Surveyor',\n",
      " 'ZALA 421-04M5',\n",
      " 'ZALA 421-08M',\n",
      " 'ZALA 421-12',\n",
      " 'ZALA 421-12L',\n",
      " 'ZALA 421-12M',\n",
      " 'ZALA 421-14M',\n",
      " 'ZALA 421-16',\n",
      " 'ZALA 421-16E1',\n",
      " 'ZALA 421-16E2',\n",
      " 'ZALA 421-16EV',\n",
      " 'ZALA 421-16M',\n",
      " 'ZALA 421-20',\n",
      " 'ZALA 421-20L',\n",
      " 'ZALA 421-20S',\n",
      " 'ZALA 421-4MU']\n"
     ]
    }
   ],
   "source": [
    "from pprint import pprint\n",
    "\n",
    "drones = \"\"\"\n",
    "ProDrone PD6B-AW-ARM: A versatile drone equipped with robotic arms capable of carrying and manipulating objects.\n",
    "SKYF Cargo Drone: An autonomous heavy-lift drone designed for cargo transportation in various industries.\n",
    "ZALA 421-16E2: A small surveillance drone used for aerial reconnaissance and monitoring missions.\n",
    "Forpost Drone: A medium-altitude, long-endurance (MALE) drone designed for military and surveillance applications.\n",
    "Elistair Ligh-T V.4: A tethered drone system that provides extended flight time and continuous power supply for aerial surveillance.\n",
    "Kronstadt Orion-E: A tactical reconnaissance unmanned aerial vehicle (UAV) used for surveillance and target acquisition.\n",
    "Kronshtadt Inokhodets: A multi-purpose drone designed for intelligence gathering, surveillance, and reconnaissance missions.\n",
    "ZALA 421-08M: A lightweight and portable drone used for surveillance, search operations, and border patrol.\n",
    "Rostec Chirok: A compact quadcopter drone suitable for aerial photography, videography, and inspection tasks.\n",
    "ZALA 421-16EV: A small-sized drone equipped with advanced imaging systems for surveillance and mapping purposes.\n",
    "ARDN Vanguard: A high-performance drone designed for aerial filming, inspection, and surveillance applications.\n",
    "FLYNEX Avian: A modular drone platform capable of carrying various payloads for different missions, such as surveying, mapping, and agriculture.\n",
    "ZALA 421-4MU: A mini quadcopter drone used for close-range surveillance and reconnaissance operations.\n",
    "ProDrone Byrd Premium: A foldable drone with a long flight time and high-quality camera for aerial photography and videography.\n",
    "ARDN Spectre: A compact and agile drone designed for aerial photography, videography, and surveillance tasks.\n",
    "\n",
    "ZALA 421-16E1: A lightweight and portable surveillance drone used for reconnaissance and monitoring missions.\n",
    "ARDN Nimbus: An advanced quadcopter drone with obstacle avoidance and intelligent flight modes for aerial photography and videography.\n",
    "Kronshtadt Orion-2: A long-range reconnaissance drone capable of operating in harsh weather conditions for military and surveillance purposes.\n",
    "Rostec ZALA VTOL: A vertical take-off and landing (VTOL) drone designed for aerial inspections, surveillance, and mapping tasks.\n",
    "ProDrone PD4-AW: An industrial-grade drone equipped with a waterproof and dustproof body for operations in challenging environments.\n",
    "SKYF Agro Drone: An agricultural drone designed for crop spraying, seed planting, and precision farming applications.\n",
    "ZALA 421-04M5: A compact and lightweight drone used for aerial reconnaissance, surveillance, and target acquisition.\n",
    "ARDN Harpy: A versatile drone platform that can be customized with different payloads for various applications, including inspection, surveying, and search and rescue.\n",
    "Kronshtadt Zala ZONT-2: A small-sized surveillance drone with high endurance and advanced imaging capabilities.\n",
    "ProDrone Byrd Ultimate: A foldable quadcopter drone with an extended flight time and professional-grade camera for aerial photography and videography.\n",
    "ARDN Falcon: A compact and agile drone designed for fast-paced aerial photography, videography, and inspection tasks.\n",
    "Elistair Safe-T: A tethered drone system that provides continuous power supply and stable flight for long-duration aerial surveillance and communication relays.\n",
    "ZALA 421-20: A lightweight and maneuverable drone used for aerial reconnaissance, surveillance, and mapping missions.\n",
    "Rostec Sirius: A professional-grade quadcopter drone with advanced flight control and imaging capabilities for aerial photography and videography.\n",
    "SKYF Security Drone: A surveillance and security drone equipped with thermal imaging and advanced tracking features for monitoring large areas.\n",
    "\n",
    "ProDrone PD6B-LW: A lightweight and portable drone designed for aerial photography, videography, and inspection tasks.\n",
    "Kronshtadt Zala ZALA 421-08: A compact surveillance drone used for aerial reconnaissance and monitoring missions.\n",
    "ARDN Goshawk: A professional-grade quadcopter drone with advanced flight capabilities and high-resolution imaging for aerial photography and videography.\n",
    "ZALA 421-16: A versatile surveillance drone with advanced imaging systems and autonomous flight modes for various applications.\n",
    "Elistair Ligh-T V.3: A tethered drone system that provides extended flight time and stable aerial surveillance capabilities.\n",
    "Rostec ZALA 421-4M: A mini quadcopter drone used for close-range surveillance and reconnaissance operations.\n",
    "SKYF Surveyor: An unmanned aerial vehicle (UAV) designed for surveying and mapping applications in diverse terrains.\n",
    "ProDrone PD6B-Tether: A tethered drone system that provides continuous power supply and stable flight for long-duration aerial inspections and surveillance.\n",
    "ARDN Sparrow: A compact and agile drone designed for aerial photography, videography, and inspection tasks.\n",
    "Kronshtadt Orion-3: A high-altitude, long-endurance drone used for intelligence gathering, surveillance, and reconnaissance missions.\n",
    "ZALA 421-12: A versatile quadcopter drone equipped with advanced imaging systems for surveillance, monitoring, and mapping purposes.\n",
    "Rostec ZALA 421-16E2: A small-sized surveillance drone used for aerial reconnaissance and monitoring missions.\n",
    "SKYF Firebird: A fixed-wing hybrid drone capable of vertical take-off and landing (VTOL), designed for long-range missions in various industries.\n",
    "ProDrone PD4-X: A rugged and durable drone designed for industrial inspections, aerial mapping, and surveillance tasks.\n",
    "ARDN Kestrel: An agile quadcopter drone with advanced flight control and imaging capabilities for aerial photography and videography.\n",
    "\n",
    "ZALA 421-20L: A lightweight and long-endurance drone used for aerial surveillance, reconnaissance, and mapping missions.\n",
    "Elistair Safe-T2: An upgraded tethered drone system that provides continuous power supply and stable flight for long-duration aerial surveillance and communication relays.\n",
    "Rostec Sirius Pro: A professional-grade quadcopter drone with advanced flight control and imaging capabilities for aerial photography and videography.\n",
    "SKYF Industrial Drone: A heavy-lift drone designed for industrial applications such as construction, infrastructure inspection, and cargo transportation.\n",
    "ProDrone PD6B-AW: A versatile drone equipped with advanced robotic arms for various payload handling tasks.\n",
    "ARDN Osprey: An agile and maneuverable drone designed for aerial photography, videography, and inspection tasks in challenging environments.\n",
    "Kronshtadt Orion-4: A tactical reconnaissance drone capable of operating in complex terrains and adverse weather conditions.\n",
    "ZALA 421-12M: A compact quadcopter drone used for aerial reconnaissance, surveillance, and target acquisition.\n",
    "Rostec ZALA VTOL Plus: A vertical take-off and landing (VTOL) drone equipped with advanced imaging systems for aerial inspections and surveillance.\n",
    "ProDrone Byrd Basic: A foldable and lightweight drone suitable for entry-level aerial photography and videography.\n",
    "ARDN Swift: A compact and agile drone designed for fast-paced aerial photography, videography, and inspection tasks.\n",
    "Elistair Ligh-T V.2: A tethered drone system that provides extended flight time and continuous power supply for aerial surveillance and communication relays.\n",
    "ZALA 421-16M: A versatile quadcopter drone equipped with advanced imaging systems for surveillance, monitoring, and mapping purposes.\n",
    "SKYF Security Plus: An advanced surveillance and security drone with enhanced capabilities for monitoring large areas and critical infrastructure.\n",
    "ProDrone PD4-UAV: A rugged and durable drone designed for industrial inspections, aerial mapping, and surveillance tasks in harsh environments.\n",
    "\n",
    "Kronshtadt Orion-5: A long-range reconnaissance drone with enhanced endurance and advanced imaging capabilities for military and surveillance applications.\n",
    "ZALA 421-14M: A compact quadcopter drone used for aerial reconnaissance, surveillance, and target acquisition.\n",
    "ARDN Hornet: A versatile quadcopter drone with advanced flight control and imaging capabilities for aerial photography, videography, and inspection tasks.\n",
    "Rostec ZALA VTOL Pro: A vertical take-off and landing (VTOL) drone designed for aerial inspections, surveillance, and mapping in professional applications.\n",
    "ProDrone PD6B-LW: A lightweight and portable drone with extended flight time and high-quality camera for aerial photography and videography.\n",
    "SKYF Industrial Plus: An upgraded heavy-lift drone with enhanced payload capacity for industrial applications such as construction, agriculture, and logistics.\n",
    "ZALA 421-12L: A lightweight and long-endurance drone used for aerial surveillance, reconnaissance, and mapping missions.\n",
    "Elistair Ligh-T V.1: A tethered drone system that provides extended flight time and continuous power supply for aerial surveillance and communication relays.\n",
    "Rostec Sirius Basic: A beginner-friendly quadcopter drone with basic flight controls and imaging capabilities for entry-level aerial photography and videography.\n",
    "ARDN Swift Pro: An advanced compact and agile drone designed for fast-paced aerial photography, videography, and inspection tasks.\n",
    "Kronshtadt Orion-6: A high-altitude, long-endurance drone used for intelligence gathering, surveillance, and reconnaissance missions in challenging environments.\n",
    "ZALA 421-20S: A compact and maneuverable drone used for aerial reconnaissance, surveillance, and mapping missions.\n",
    "ProDrone PD6B-Tether Pro: An upgraded tethered drone system with advanced features for long-duration aerial inspections, surveillance, and communication relays.\n",
    "SKYF Agro Plus: An advanced agricultural drone with enhanced spraying capabilities and precision farming features.\n",
    "ARDN Phoenix: A professional-grade quadcopter drone with advanced flight control and imaging capabilities for aerial photography, videography, and inspection tasks in professional applications. \"\"\"\n",
    "\n",
    "splits = drones.replace(\"\\n\\n\", \"\\n\").strip().split(\"\\n\")\n",
    "#print(splits)\n",
    "splits =  [x.split(\":\") for x in splits]\n",
    "names = [x[0] for x in splits[::1]]\n",
    "names = sorted(names)\n",
    "pprint(names)\n",
    "\n"
   ],
   "metadata": {
    "collapsed": false,
    "ExecuteTime": {
     "end_time": "2023-08-27T22:15:34.837428500Z",
     "start_time": "2023-08-27T22:15:34.791432Z"
    }
   }
  },
  {
   "attachments": {},
   "cell_type": "markdown",
   "id": "29d4e02b",
   "metadata": {},
   "source": [
    "### Basic concepts\n",
    "\n",
    "Let's create some function specifications to interface with a hypothetical weather API. We'll pass these function specification to the Chat Completions API in order to generate function arguments that adhere to the specification."
   ]
  },
  {
   "cell_type": "code",
   "execution_count": null,
   "id": "d2e25069",
   "metadata": {},
   "outputs": [],
   "source": [
    "functions = [\n",
    "    {\n",
    "        \"name\"       : \"get_current_weather\",\n",
    "        \"description\": \"Get the current weather\",\n",
    "        \"parameters\" : {\n",
    "            \"type\"      : \"object\",\n",
    "            \"properties\": {\n",
    "                \"location\": {\n",
    "                    \"type\"       : \"string\",\n",
    "                    \"description\": \"The city and state, e.g. San Francisco, CA\",\n",
    "                },\n",
    "                \"format\"  : {\n",
    "                    \"type\"       : \"string\",\n",
    "                    \"enum\"       : [\"celsius\", \"fahrenheit\"],\n",
    "                    \"description\": \"The temperature unit to use. Infer this from the users location.\",\n",
    "                },\n",
    "            },\n",
    "            \"required\"  : [\"location\", \"format\"],\n",
    "        },\n",
    "    },\n",
    "    {\n",
    "        \"name\"       : \"get_n_day_weather_forecast\",\n",
    "        \"description\": \"Get an N-day weather forecast\",\n",
    "        \"parameters\" : {\n",
    "            \"type\"      : \"object\",\n",
    "            \"properties\": {\n",
    "                \"location\": {\n",
    "                    \"type\"       : \"string\",\n",
    "                    \"description\": \"The city and state, e.g. San Francisco, CA\",\n",
    "                },\n",
    "                \"format\"  : {\n",
    "                    \"type\"       : \"string\",\n",
    "                    \"enum\"       : [\"celsius\", \"fahrenheit\"],\n",
    "                    \"description\": \"The temperature unit to use. Infer this from the users location.\",\n",
    "                },\n",
    "                \"num_days\": {\n",
    "                    \"type\"       : \"integer\",\n",
    "                    \"description\": \"The number of days to forecast\",\n",
    "                }\n",
    "            },\n",
    "            \"required\"  : [\"location\", \"format\", \"num_days\"]\n",
    "        },\n",
    "    },\n",
    "]"
   ]
  },
  {
   "attachments": {},
   "cell_type": "markdown",
   "id": "bfc39899",
   "metadata": {},
   "source": [
    "If we prompt the model about the current weather, it will respond with some clarifying questions."
   ]
  },
  {
   "cell_type": "code",
   "execution_count": null,
   "id": "518d6827",
   "metadata": {},
   "outputs": [],
   "source": [
    "messages = []\n",
    "messages.append({\n",
    "    \"role\"   : \"system\",\n",
    "    \"content\": \"Don't make assumptions about what values to plug into functions. Ask for clarification if a user request is ambiguous.\"}\n",
    ")\n",
    "messages.append({\"role\": \"user\", \"content\": \"What's the weather like today\"})\n",
    "chat_response = chat_completion_request(\n",
    "    messages, functions=functions\n",
    ")\n",
    "assistant_message = chat_response.json()[\"choices\"][0][\"message\"]\n",
    "messages.append(assistant_message)\n",
    "assistant_message\n"
   ]
  },
  {
   "attachments": {},
   "cell_type": "markdown",
   "id": "4c999375",
   "metadata": {},
   "source": [
    "Once we provide the missing information, it will generate the appropriate function arguments for us."
   ]
  },
  {
   "cell_type": "code",
   "execution_count": null,
   "id": "23c42a6e",
   "metadata": {},
   "outputs": [],
   "source": [
    "messages.append({\"role\": \"user\", \"content\": \"I'm in Glasgow, Scotland.\"})\n",
    "chat_response = chat_completion_request(\n",
    "    messages, functions=functions\n",
    ")\n",
    "assistant_message = chat_response.json()[\"choices\"][0][\"message\"]\n",
    "messages.append(assistant_message)\n",
    "assistant_message\n"
   ]
  },
  {
   "attachments": {},
   "cell_type": "markdown",
   "id": "c14d4762",
   "metadata": {},
   "source": [
    "By prompting it differently, we can get it to target the other function we've told it about."
   ]
  },
  {
   "cell_type": "code",
   "execution_count": null,
   "id": "fa232e54",
   "metadata": {},
   "outputs": [],
   "source": [
    "messages = []\n",
    "messages.append({\"role\": \"system\", \"content\": \"Don't make assumptions about what values to plug into functions. Ask for clarification if a user request is ambiguous.\"})\n",
    "messages.append({\"role\": \"user\", \"content\": \"what is the weather going to be like in Glasgow, Scotland over the next x days\"})\n",
    "chat_response = chat_completion_request(\n",
    "    messages, functions=functions\n",
    ")\n",
    "assistant_message = chat_response.json()[\"choices\"][0][\"message\"]\n",
    "messages.append(assistant_message)\n",
    "assistant_message\n"
   ]
  },
  {
   "attachments": {},
   "cell_type": "markdown",
   "id": "6172ddac",
   "metadata": {},
   "source": [
    "Once again, the model is asking us for clarification because it doesn't have enough information yet. In this case it already knows the location for the forecast, but it needs to know how many days are required in the forecast."
   ]
  },
  {
   "cell_type": "code",
   "execution_count": null,
   "id": "c7d8a543",
   "metadata": {},
   "outputs": [],
   "source": [
    "messages.append({\"role\": \"user\", \"content\": \"5 days\"})\n",
    "chat_response = chat_completion_request(\n",
    "    messages, functions=functions\n",
    ")\n",
    "chat_response.json()[\"choices\"][0]\n"
   ]
  },
  {
   "attachments": {},
   "cell_type": "markdown",
   "id": "4b758a0a",
   "metadata": {},
   "source": [
    "#### Forcing the use of specific functions or no function"
   ]
  },
  {
   "attachments": {},
   "cell_type": "markdown",
   "id": "412f79ba",
   "metadata": {},
   "source": [
    "We can force the model to use a specific function, for example get_n_day_weather_forecast by using the function_call argument. By doing so, we force the model to make assumptions about how to use it."
   ]
  },
  {
   "cell_type": "code",
   "execution_count": null,
   "id": "559371b7",
   "metadata": {},
   "outputs": [],
   "source": [
    "# in this cell we force the model to use get_n_day_weather_forecast\n",
    "messages = []\n",
    "messages.append({\"role\": \"system\", \"content\": \"Don't make assumptions about what values to plug into functions. Ask for clarification if a user request is ambiguous.\"})\n",
    "messages.append({\"role\": \"user\", \"content\": \"Give me a weather report for Toronto, Canada.\"})\n",
    "chat_response = chat_completion_request(\n",
    "    messages, functions=functions, function_call={\"name\": \"get_n_day_weather_forecast\"}\n",
    ")\n",
    "chat_response.json()[\"choices\"][0][\"message\"]\n"
   ]
  },
  {
   "cell_type": "code",
   "execution_count": null,
   "id": "a7ab0f58",
   "metadata": {},
   "outputs": [],
   "source": [
    "# if we don't force the model to use get_n_day_weather_forecast it may not\n",
    "messages = []\n",
    "messages.append({\"role\": \"system\", \"content\": \"Don't make assumptions about what values to plug into functions. Ask for clarification if a user request is ambiguous.\"})\n",
    "messages.append({\"role\": \"user\", \"content\": \"Give me a weather report for Toronto, Canada.\"})\n",
    "chat_response = chat_completion_request(\n",
    "    messages, functions=functions\n",
    ")\n",
    "chat_response.json()[\"choices\"][0][\"message\"]\n"
   ]
  },
  {
   "attachments": {},
   "cell_type": "markdown",
   "id": "3bd70e48",
   "metadata": {},
   "source": [
    "We can also force the model to not use a function at all. By doing so we prevent it from producing a proper function call."
   ]
  },
  {
   "cell_type": "code",
   "execution_count": null,
   "id": "acfe54e6",
   "metadata": {},
   "outputs": [],
   "source": [
    "messages = []\n",
    "messages.append({\"role\": \"system\", \"content\": \"Don't make assumptions about what values to plug into functions. Ask for clarification if a user request is ambiguous.\"})\n",
    "messages.append({\"role\": \"user\", \"content\": \"Give me the current weather (use Celcius) for Toronto, Canada.\"})\n",
    "chat_response = chat_completion_request(\n",
    "    messages, functions=functions, function_call=\"none\"\n",
    ")\n",
    "chat_response.json()[\"choices\"][0][\"message\"]\n"
   ]
  },
  {
   "attachments": {},
   "cell_type": "markdown",
   "id": "b4482aee",
   "metadata": {},
   "source": [
    "## How to call functions with model generated arguments\n",
    "\n",
    "In our next example, we'll demonstrate how to execute functions whose inputs are model-generated, and use this to implement an agent that can answer questions for us about a database. For simplicity we'll use the [Chinook sample database](https://www.sqlitetutorial.net/sqlite-sample-database/).\n",
    "\n",
    "*Note:* SQL generation can be high-risk in a production environment since models are not perfectly reliable at generating correct SQL."
   ]
  },
  {
   "attachments": {},
   "cell_type": "markdown",
   "id": "f7654fef",
   "metadata": {},
   "source": [
    "### Specifying a function to execute SQL queries\n",
    "\n",
    "First let's define some helpful utility functions to extract data from a SQLite database."
   ]
  },
  {
   "cell_type": "code",
   "execution_count": null,
   "id": "30f6b60e",
   "metadata": {},
   "outputs": [],
   "source": [
    "import sqlite3\n",
    "\n",
    "conn = sqlite3.connect(\"data/Chinook.db\")\n",
    "print(\"Opened database successfully\")"
   ]
  },
  {
   "cell_type": "code",
   "execution_count": null,
   "id": "abec0214",
   "metadata": {},
   "outputs": [],
   "source": [
    "def get_table_names(conn):\n",
    "    \"\"\"Return a list of table names.\"\"\"\n",
    "    table_names = []\n",
    "    tables = conn.execute(\"SELECT name FROM sqlite_master WHERE type='table';\")\n",
    "    for table in tables.fetchall():\n",
    "        table_names.append(table[0])\n",
    "    return table_names\n",
    "\n",
    "def get_column_names(conn, table_name):\n",
    "    \"\"\"Return a list of column names.\"\"\"\n",
    "    column_names = []\n",
    "    columns = conn.execute(f\"PRAGMA table_info('{table_name}');\").fetchall()\n",
    "    for col in columns:\n",
    "        column_names.append(col[1])\n",
    "    return column_names\n",
    "\n",
    "def get_database_info(conn):\n",
    "    \"\"\"Return a list of dicts containing the table name and columns for each table in the database.\"\"\"\n",
    "    table_dicts = []\n",
    "    for table_name in get_table_names(conn):\n",
    "        columns_names = get_column_names(conn, table_name)\n",
    "        table_dicts.append({\"table_name\": table_name, \"column_names\": columns_names})\n",
    "    return table_dicts\n"
   ]
  },
  {
   "attachments": {},
   "cell_type": "markdown",
   "id": "77e6e5ea",
   "metadata": {},
   "source": [
    "Now can use these utility functions to extract a representation of the database schema."
   ]
  },
  {
   "cell_type": "code",
   "execution_count": null,
   "id": "0c0104cd",
   "metadata": {},
   "outputs": [],
   "source": [
    "database_schema_dict = get_database_info(conn)\n",
    "database_schema_string = \"\\n\".join(\n",
    "    [\n",
    "        f\"Table: {table['table_name']}\\nColumns: {', '.join(table['column_names'])}\"\n",
    "        for table in database_schema_dict\n",
    "    ]\n",
    ")"
   ]
  },
  {
   "attachments": {},
   "cell_type": "markdown",
   "id": "ae73c9ee",
   "metadata": {},
   "source": [
    "As before, we'll define a function specification for the function we'd like the API to generate arguments for. Notice that we are inserting the database schema into the function specification. This will be important for the model to know about."
   ]
  },
  {
   "cell_type": "code",
   "execution_count": null,
   "id": "0258813a",
   "metadata": {},
   "outputs": [],
   "source": [
    "functions = [\n",
    "    {\n",
    "        \"name\"       : \"ask_database\",\n",
    "        \"description\": \"Use this function to answer user questions about music. Input should be a fully formed SQL query.\",\n",
    "        \"parameters\" : {\n",
    "            \"type\"      : \"object\",\n",
    "            \"properties\": {\n",
    "                \"query\": {\n",
    "                    \"type\"       : \"string\",\n",
    "                    \"description\": f\"\"\"\n",
    "                            SQL query extracting info to answer the user's question.\n",
    "                            SQL should be written using this database schema:\n",
    "                            {database_schema_string}\n",
    "                            The query should be returned in plain text, not in JSON.\n",
    "                            \"\"\",\n",
    "                }\n",
    "            },\n",
    "            \"required\"  : [\"query\"],\n",
    "        },\n",
    "    }\n",
    "]"
   ]
  },
  {
   "attachments": {},
   "cell_type": "markdown",
   "id": "da08c121",
   "metadata": {},
   "source": [
    "### Executing SQL queries\n",
    "\n",
    "Now let's implement the function that will actually excute queries against the database."
   ]
  },
  {
   "cell_type": "code",
   "execution_count": null,
   "id": "65585e74",
   "metadata": {},
   "outputs": [],
   "source": [
    "def ask_database(conn, query):\n",
    "    \"\"\"Function to query SQLite database with a provided SQL query.\"\"\"\n",
    "    try:\n",
    "        results = str(conn.execute(query).fetchall())\n",
    "    except Exception as e:\n",
    "        results = f\"query failed with error: {e}\"\n",
    "    return results\n",
    "\n",
    "def execute_function_call(message):\n",
    "    if message[\"function_call\"][\"name\"] == \"ask_database\":\n",
    "        query = json.loads(message[\"function_call\"][\"arguments\"])[\"query\"]\n",
    "        results = ask_database(conn, query)\n",
    "    else:\n",
    "        results = f\"Error: function {message['function_call']['name']} does not exist\"\n",
    "    return results"
   ]
  },
  {
   "cell_type": "code",
   "execution_count": null,
   "id": "38c55083",
   "metadata": {},
   "outputs": [],
   "source": [
    "messages = []\n",
    "messages.append({\"role\": \"system\", \"content\": \"Answer user questions by generating SQL queries against the Chinook Music Database.\"})\n",
    "messages.append({\"role\": \"user\", \"content\": \"Hi, who are the top 5 artists by number of tracks?\"})\n",
    "chat_response = chat_completion_request(messages, functions)\n",
    "assistant_message = chat_response.json()[\"choices\"][0][\"message\"]\n",
    "messages.append(assistant_message)\n",
    "if assistant_message.get(\"function_call\"):\n",
    "    results = execute_function_call(assistant_message)\n",
    "    messages.append({\"role\": \"function\", \"name\": assistant_message[\"function_call\"][\"name\"], \"content\": results})\n",
    "pretty_print_conversation(messages)"
   ]
  },
  {
   "cell_type": "code",
   "execution_count": null,
   "id": "710481dc",
   "metadata": {
    "scrolled": true
   },
   "outputs": [],
   "source": [
    "messages.append({\"role\": \"user\", \"content\": \"What is the name of the album with the most tracks?\"})\n",
    "chat_response = chat_completion_request(messages, functions)\n",
    "assistant_message = chat_response.json()[\"choices\"][0][\"message\"]\n",
    "messages.append(assistant_message)\n",
    "if assistant_message.get(\"function_call\"):\n",
    "    results = execute_function_call(assistant_message)\n",
    "    messages.append({\"role\": \"function\", \"content\": results, \"name\": assistant_message[\"function_call\"][\"name\"]})\n",
    "pretty_print_conversation(messages)"
   ]
  },
  {
   "attachments": {},
   "cell_type": "markdown",
   "id": "2d89073c",
   "metadata": {},
   "source": [
    "## Next Steps\n",
    "\n",
    "See our other [notebook](How_to_call_functions_for_knowledge_retrieval.ipynb) that demonstrates how to use the Chat Completions API and functions for knowledge retrieval to interact conversationally with a knowledge base.\n"
   ]
  }
 ],
 "metadata": {
  "kernelspec": {
   "display_name": "Python 3 (ipykernel)",
   "language": "python",
   "name": "python3"
  },
  "language_info": {
   "codemirror_mode": {
    "name": "ipython",
    "version": 3
   },
   "file_extension": ".py",
   "mimetype": "text/x-python",
   "name": "python",
   "nbconvert_exporter": "python",
   "pygments_lexer": "ipython3",
   "version": "3.9.9"
  }
 },
 "nbformat": 4,
 "nbformat_minor": 5
}
